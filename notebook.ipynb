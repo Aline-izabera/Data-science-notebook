{
  "metadata": {
    "kernelspec": {
      "name": "python",
      "display_name": "Python (Pyodide)",
      "language": "python"
    },
    "language_info": {
      "name": ""
    }
  },
  "nbformat_minor": 4,
  "nbformat": 4,
  "cells": [
    {
      "cell_type": "markdown",
      "source": "## Introduction\n\nIn this notebook, we will explore various tools and components that are commonly used in the field of Data Science. The ecosystem of Data Science includes a wide range of programming languages, libraries, development environments, and frameworks that help data scientists to collect, clean, analyze, visualize, and interpret data. Whether you're a beginner or an experienced professional, understanding these tools is essential for working effectively in data-driven environments.\n\n",
      "metadata": {}
    },
    {
      "cell_type": "markdown",
      "source": "## Data Science Languages\n\nSome of the popular languages that Data Scientists use are:\n\n1. Python  \n2. R  \n3. SQL  \n4. Java  \n5. Julia  \n6. Scala  \n7. MATLAB\n",
      "metadata": {}
    },
    {
      "cell_type": "code",
      "source": "## Data Science Libraries\n\nSome of the commonly used libraries used by Data Scientists include:\n\n1. Pandas  \n2. NumPy  \n3. Matplotlib  \n4. Seaborn  \n5. Scikit-learn  \n6. TensorFlow  \n7. Keras  \n8. PyTorch\n",
      "metadata": {
        "trusted": true
      },
      "outputs": [],
      "execution_count": null
    },
    {
      "cell_type": "code",
      "source": "## Data Science Tools\n\n| Category              | Tool                     |\n|-----------------------|--------------------------|\n| Data Processing       | Pandas, dplyr            |\n| Data Visualization    | Matplotlib, Seaborn, ggplot2 |\n| Machine Learning      | Scikit-learn, TensorFlow, Keras |\n| Big Data Tools        | Apache Spark, Hadoop     |\n| Development Environment | Jupyter Notebook, RStudio |\n",
      "metadata": {
        "trusted": true
      },
      "outputs": [],
      "execution_count": null
    },
    {
      "cell_type": "code",
      "source": "## Arithmetic Expression Examples\n\nIn this section, we will explore examples of arithmetic expressions in Python.  \nArithmetic expressions are used to perform mathematical operations such as addition, subtraction, multiplication, and division.\n\nHere are a few examples you will see:\n\n- Addition (`+`)\n- Subtraction (`-`)\n- Multiplication (`*`)\n- Division (`/`)\n- Exponents (`**`)\n- Modulus (`%`)\n",
      "metadata": {
        "trusted": true
      },
      "outputs": [],
      "execution_count": null
    },
    {
      "cell_type": "code",
      "source": "# This code multiplies and adds numbers\n\n# Multiply two numbers\nproduct = 5 * 4\n\n# Add two numbers\nsum_result = 5 + 4\n\n# Display the results\nprint(\"Product of 5 and 4 is:\", product)\nprint(\"Sum of 5 and 4 is:\", sum_result)\n",
      "metadata": {
        "trusted": true
      },
      "outputs": [],
      "execution_count": null
    },
    {
      "cell_type": "code",
      "source": "# This code converts minutes to hours\n\n# Number of minutes\nminutes = 150\n\n# Convert to hours\nhours = minutes / 60\n\n# Display the result\nprint(minutes, \"minutes is equal to\", hours, \"hours\")\n",
      "metadata": {
        "trusted": true
      },
      "outputs": [],
      "execution_count": null
    },
    {
      "cell_type": "code",
      "source": "## Objectives\n\nThe main objectives of this notebook are:\n\n- List popular languages for Data Science  \n- Identify commonly used Data Science libraries  \n- Explore development environments used in Data Science  \n- Demonstrate arithmetic expressions in Python  \n- Convert units using Python code\n",
      "metadata": {
        "trusted": true
      },
      "outputs": [],
      "execution_count": null
    },
    {
      "cell_type": "code",
      "source": "## Author\n\n**Aline Izabera**\n",
      "metadata": {
        "trusted": true
      },
      "outputs": [],
      "execution_count": null
    },
    {
      "cell_type": "code",
      "source": "",
      "metadata": {
        "trusted": true
      },
      "outputs": [],
      "execution_count": null
    }
  ]
}